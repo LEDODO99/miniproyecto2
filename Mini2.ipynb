{
 "cells": [
  {
   "cell_type": "markdown",
   "metadata": {},
   "source": [
    "# Miniproyecto2 \n",
    "## Luis Delgado 17187"
   ]
  },
  {
   "cell_type": "code",
   "execution_count": 1,
   "metadata": {},
   "outputs": [],
   "source": [
    "import math\n",
    "import matplotlib.pyplot as plt\n",
    "import numpy as np\n",
    "import random"
   ]
  },
  {
   "cell_type": "markdown",
   "metadata": {},
   "source": [
    "# Función acumulada ponderada"
   ]
  },
  {
   "cell_type": "markdown",
   "metadata": {},
   "source": [
    "$$ F(x)=\\sum_{i=1}^{n}p_{i}F_{i}(x) $$"
   ]
  },
  {
   "cell_type": "markdown",
   "metadata": {},
   "source": [
    "##### Algoritmo para generar V"
   ]
  },
  {
   "cell_type": "markdown",
   "metadata": {},
   "source": [
    "Al V, estar definida por la funcion de distribución acumulada, e una variable aleatoria continua. Por lo tanto el método de la transformación inversa se puede utilizar para encontrar V."
   ]
  },
  {
   "cell_type": "markdown",
   "metadata": {},
   "source": [
    "El algoritmo se define de la siguiente forma:\n",
    "1. Definir la función de Densidad $f_i(x)$ que representa la variable a modelar.\n",
    "2. Calcular la función acumulada $f(x)$.\n",
    "3. Despejar la variable aleatoria x y obtener la función acumulada inversa f(x)-1.\n",
    "4. Generar las variables aleatorias x, sustituyendo valores con números pdeudoaleatorios ri ~U (0,1) en la función acumulada inversa."
   ]
  },
  {
   "cell_type": "code",
   "execution_count": 2,
   "metadata": {},
   "outputs": [],
   "source": [
    "# Definir función de densidad f(x)\n",
    "# La gráfica de resultados debe verse como si se graficara esta funcion\n",
    "def funcion_densidad(x):\n",
    "    return 400/(x**0.75)"
   ]
  },
  {
   "cell_type": "code",
   "execution_count": 3,
   "metadata": {
    "scrolled": true
   },
   "outputs": [
    {
     "name": "stdout",
     "output_type": "stream",
     "text": [
      "Grafica de funcion de densidad:\n"
     ]
    },
    {
     "data": {
      "image/png": "[encoded data removed]",
      "text/plain": [
       "<Figure size 432x288 with 1 Axes>"
      ]
     },
     "metadata": {
      "needs_background": "light"
     },
     "output_type": "display_data"
    }
   ],
   "source": [
    "n = 1000\n",
    "probabilities = []\n",
    "\n",
    "for i in range(1,n - 1):\n",
    "    probabilities.append(funcion_densidad( i))\n",
    "print(\"Grafica de funcion de densidad:\")\n",
    "plot1 = plt.bar(np.arange(1,n-1),probabilities)\n",
    "plt.ylim(top=max(funcion_densidad(n),funcion_densidad(1))+50)\n",
    "plt.show()\n"
   ]
  },
  {
   "cell_type": "code",
   "execution_count": 4,
   "metadata": {},
   "outputs": [
    {
     "name": "stdout",
     "output_type": "stream",
     "text": [
      "Grafica de densidad de resultados:\n"
     ]
    },
    {
     "data": {
      "image/png": "[encoded data removed]",
      "text/plain": [
       "<Figure size 432x288 with 1 Axes>"
      ]
     },
     "metadata": {
      "needs_background": "light"
     },
     "output_type": "display_data"
    }
   ],
   "source": [
    "results = np.arange(1, n)\n",
    "probabilities = np.asarray(probabilities)\n",
    "acumulada = np.cumsum(probabilities/float(sum(probabilities)))\n",
    "R = np.random.uniform(0, 1, n)\n",
    "values=[]\n",
    "for r in R:\n",
    "    posicionesPosibles=acumulada[(acumulada - r) > 0]\n",
    "    posicion=min(posicionesPosibles)\n",
    "    values.append(int(results[np.argwhere(acumulada == posicion)]))\n",
    "\n",
    "values = ((np.array(values) - 1) / 1).astype(int)\n",
    "posibles = np.arange(1, n, 1)\n",
    "frecuencias = np.bincount(values, minlength=len(posibles))\n",
    "print(\"Grafica de densidad de resultados:\")\n",
    "plot1 = plt.bar(np.arange(1,n),frecuencias)\n",
    "plt.show()"
   ]
  },
  {
   "cell_type": "markdown",
   "metadata": {},
   "source": [
    "# Valor presente neto"
   ]
  },
  {
   "cell_type": "code",
   "execution_count": 5,
   "metadata": {},
   "outputs": [],
   "source": [
    "def normal(n1,n2):\n",
    "    while True:\n",
    "        y1 = -math.log(random.random(), math.exp(1))\n",
    "        y2 = -math.log(random.random(), math.exp(1))\n",
    "        if (y2 - ((y1 - 1) ** 2) / 2) > 0:\n",
    "            y1 = y2 - ((y1 - 1) ** 2) / 2\n",
    "            x = random.random()\n",
    "            if x <= 0.5:\n",
    "                return n1 + n2 * y1\n",
    "            else:\n",
    "                return n1 - n2 * y1"
   ]
  },
  {
   "cell_type": "code",
   "execution_count": 6,
   "metadata": {},
   "outputs": [],
   "source": [
    "def simularHotel(iteraciones, porcentaje):\n",
    "    promedio=0\n",
    "    for x in range(iteraciones):\n",
    "        vpn = -800\n",
    "        vpn += normal(-800,50) / ((1 + porcentaje) ** 1) \n",
    "        vpn += normal(-800,100) / ((1 + porcentaje) ** 2) \n",
    "        vpn += normal(-700,150) / ((1 + porcentaje) ** 3) \n",
    "        vpn += normal(300,200) / ((1 + porcentaje) ** 4) \n",
    "        vpn += normal(400,200) / ((1 + porcentaje) ** 5) \n",
    "        vpn += normal(500,200) / ((1 + porcentaje) ** 6) \n",
    "        vpn += np.random.uniform(200,8440) / ((1 + porcentaje) ** 7)\n",
    "        promedio+=vpn\n",
    "    return (promedio/iteraciones)"
   ]
  },
  {
   "cell_type": "code",
   "execution_count": 7,
   "metadata": {},
   "outputs": [],
   "source": [
    "def simularCC(iteraciones, porcentaje):\n",
    "    promedio=0\n",
    "    for x in range(iteraciones):\n",
    "        vpn = -900\n",
    "        vpn += normal(-600,50) / ((1 + porcentaje) ** 1) \n",
    "        vpn += normal(-200,50) / ((1 + porcentaje) ** 2) \n",
    "        vpn += normal(-600,100) / ((1 + porcentaje) ** 3) \n",
    "        vpn += normal(250,150) / ((1 + porcentaje) ** 4) \n",
    "        vpn += normal(350,150) / ((1 + porcentaje) ** 5) \n",
    "        vpn += normal(400,150) / ((1 + porcentaje) ** 6) \n",
    "        vpn += np.random.uniform(1600,6000) / ((1 + porcentaje) ** 7)\n",
    "        promedio+=vpn\n",
    "    return (promedio/iteraciones)"
   ]
  },
  {
   "cell_type": "code",
   "execution_count": 8,
   "metadata": {},
   "outputs": [
    {
     "name": "stdout",
     "output_type": "stream",
     "text": [
      "VPN Centro Comercial 100 iteraciones: 435.6949021569848\n",
      "VPN Centro Comercial 1000 iteraciones: 482.195118055338\n",
      "VPN Centro Comercial 10000 iteraciones: 504.92655890023104\n",
      "VPN Hotel 100 iteraciones: 253.66423158380977\n",
      "VPN Hotel 1000 iteraciones: 200.81595640474336\n",
      "VPN Hotel 10000 iteraciones: 232.90012133618845\n"
     ]
    }
   ],
   "source": [
    "centro_comercial_100=simularCC(100,0.1)\n",
    "centro_comercial_1000=simularCC(1000,0.1)\n",
    "centro_comercial_10000=simularCC(10000,0.1)\n",
    "hotel_100=simularHotel(100,0.1)\n",
    "hotel_1000=simularHotel(1000,0.1)\n",
    "hotel_10000=simularHotel(10000,0.1)\n",
    "\n",
    "print(\"VPN Centro Comercial 100 iteraciones:\", centro_comercial_100)\n",
    "print(\"VPN Centro Comercial 1000 iteraciones:\", ((centro_comercial_1000)))\n",
    "print(\"VPN Centro Comercial 10000 iteraciones:\", ((centro_comercial_10000)))\n",
    "print(\"VPN Hotel 100 iteraciones:\", ((hotel_100)))\n",
    "print(\"VPN Hotel 1000 iteraciones:\", ((hotel_1000)))\n",
    "print(\"VPN Hotel 10000 iteraciones:\", ((hotel_10000)))"
   ]
  },
  {
   "cell_type": "markdown",
   "metadata": {},
   "source": [
    "# Repartidor de periódicos"
   ]
  },
  {
   "cell_type": "code",
   "execution_count": 9,
   "metadata": {},
   "outputs": [
    {
     "name": "stdout",
     "output_type": "stream",
     "text": [
      "cant \tmes\taño\t10años\n",
      "9\t270.0\t3285.0\t32850.0\t\n",
      "10\t272.0\t3420.0\t34322.0\t\n",
      "11\t258.0\t3211.0\t32754.0\t\n",
      "\n",
      "\n",
      "Promedio ganancias diarias 9:\t9.0\n",
      "Promedio ganancias diarias 10:\t9.385414091470953\n",
      "Promedio ganancias diarias 11:\t8.933250927070457\n",
      "\n",
      "\n",
      "La mejor opcion es comprar: 10 periodicos diarios\n"
     ]
    }
   ],
   "source": [
    "def simulardor_dias(n,dias):\n",
    "    dinero=0\n",
    "    for i in range(dias):\n",
    "        # Compra periodicos del día\n",
    "        dinero-=(1.5*n)\n",
    "        r=random.random()\n",
    "        # Se le piden 11\n",
    "        if (r<0.3):\n",
    "            dinero+=(2.5*n)\n",
    "        # Se le piden 10\n",
    "        elif(r>=0.3 and r<0.7):\n",
    "            if (n==11):\n",
    "                dinero+=(2.5*10)\n",
    "                dinero+=0.5\n",
    "            else:\n",
    "                dinero+=(2.5*n)\n",
    "        # Se le piden 9\n",
    "        else:\n",
    "            dinero+=(2.5*9)\n",
    "            dinero+=(0.5*(n-9))\n",
    "    return dinero\n",
    "print(\"cant \\tmes\\taño\\t10años\")\n",
    "print(\"9\\t\"+str(simulardor_dias(9,30))+\"\\t\"+str(simulardor_dias(9,365))+\"\\t\"+str(simulardor_dias(9,3650))+\"\\t\")\n",
    "print(\"10\\t\"+str(simulardor_dias(10,30))+\"\\t\"+str(simulardor_dias(10,365))+\"\\t\"+str(simulardor_dias(10,3650))+\"\\t\")\n",
    "print(\"11\\t\"+str(simulardor_dias(11,30))+\"\\t\"+str(simulardor_dias(11,365))+\"\\t\"+str(simulardor_dias(11,3650))+\"\\t\")\n",
    "\n",
    "print(\"\\n\")\n",
    "diario9=(((simulardor_dias(9,30)+simulardor_dias(9,365)+simulardor_dias(9,3650))/(3650+365+30)))\n",
    "diario10=(((simulardor_dias(10,30)+simulardor_dias(10,365)+simulardor_dias(10,3650))/(3650+365+30)))\n",
    "diario11=(((simulardor_dias(11,30)+simulardor_dias(11,365)+simulardor_dias(11,3650))/(3650+365+30)))\n",
    "print(\"Promedio ganancias diarias 9:\\t\"+str(diario9))\n",
    "print(\"Promedio ganancias diarias 10:\\t\"+str(diario10))\n",
    "print(\"Promedio ganancias diarias 11:\\t\"+str(diario11))\n",
    "\n",
    "lista=[9,10,11]\n",
    "comp=[diario9,diario10,diario11]\n",
    "\n",
    "print(\"\\n\")\n",
    "\n",
    "print(\"La mejor opcion es comprar: \"+str(lista[comp.index(max(comp))])+\" periodicos diarios\")"
   ]
  }
 ],
 "metadata": {
  "kernelspec": {
   "display_name": "Python 3",
   "language": "python",
   "name": "python3"
  },
  "language_info": {
   "codemirror_mode": {
    "name": "ipython",
    "version": 3
   },
   "file_extension": ".py",
   "mimetype": "text/x-python",
   "name": "python",
   "nbconvert_exporter": "python",
   "pygments_lexer": "ipython3",
   "version": "3.8.6"
  }
 },
 "nbformat": 4,
 "nbformat_minor": 4
}
